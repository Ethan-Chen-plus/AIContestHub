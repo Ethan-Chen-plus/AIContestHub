{
 "cells": [
  {
   "cell_type": "code",
   "execution_count": null,
   "id": "c5b9da57-9894-4234-8454-b7f93c93ee69",
   "metadata": {},
   "outputs": [],
   "source": [
    "比赛链接：\n",
    "- https://challenge.xfyun.cn/topic/info?type=skill-matching\n",
    "参考：\n",
    "- https://www.bilibili.com/video/BV1nb4y1T7kr/?p=41&vd_source=58d010759cc2b1d5bc7753dd8aad0710\n",
    "- https://hub.baai.ac.cn/view/29174 人岗匹配，有baseline，很相似\n",
    "暂时没有数据集\n",
    "并且暂时没有baseline"
   ]
  }
 ],
 "metadata": {
  "kernelspec": {
   "display_name": "kewei-ai",
   "language": "python",
   "name": "kewei-ai"
  },
  "language_info": {
   "codemirror_mode": {
    "name": "ipython",
    "version": 3
   },
   "file_extension": ".py",
   "mimetype": "text/x-python",
   "name": "python",
   "nbconvert_exporter": "python",
   "pygments_lexer": "ipython3",
   "version": "3.11.5"
  }
 },
 "nbformat": 4,
 "nbformat_minor": 5
}
