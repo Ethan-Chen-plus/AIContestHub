{
 "cells": [
  {
   "cell_type": "markdown",
   "id": "1d0f0fb1-b4d3-448c-a97e-eed62bbcfa08",
   "metadata": {
    "tags": []
   },
   "source": [
    "比赛链接：\n",
    "https://challenge.xfyun.cn/topic/info?type=rotating-machinery\n",
    "\n",
    "参考：\n",
    "- https://blog.csdn.net/u013537270/article/details/131947586\n",
    "- https://www.freqx.com/en/journalismShow/87.html\n",
    "- https://www.bilibili.com/video/BV1vj411S74Q/?p=6&vd_source=58d010759cc2b1d5bc7753dd8aad0710\n",
    "- https://github.com/hustcxl/Rotating-machine-fault-data-set (这个链接很有用)"
   ]
  },
  {
   "cell_type": "markdown",
   "id": "d5d450a5-52a3-4ff0-8f19-13e0b61d2145",
   "metadata": {},
   "source": [
    "数据集和代码均无"
   ]
  }
 ],
 "metadata": {
  "kernelspec": {
   "display_name": "kewei-ai",
   "language": "python",
   "name": "kewei-ai"
  },
  "language_info": {
   "codemirror_mode": {
    "name": "ipython",
    "version": 3
   },
   "file_extension": ".py",
   "mimetype": "text/x-python",
   "name": "python",
   "nbconvert_exporter": "python",
   "pygments_lexer": "ipython3",
   "version": "3.11.5"
  }
 },
 "nbformat": 4,
 "nbformat_minor": 5
}
