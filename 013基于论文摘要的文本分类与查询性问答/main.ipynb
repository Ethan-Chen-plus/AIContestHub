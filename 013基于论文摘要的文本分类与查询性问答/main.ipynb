{
 "cells": [
  {
   "cell_type": "markdown",
   "metadata": {},
   "source": [
    "## 序\n",
    "\n",
    "先说说这个比赛，科大讯飞2022年一系列比赛中的一个：[《基于论文摘要的文本分类与查询性问答》](https://challenge.xfyun.cn/topic/info?type=abstract&option=ssgy)\n",
    "\n",
    "这个比赛的具体内容可以看看上面的链接，非常简单的一个多分类任务:\n",
    "**根据论文标题、作者、DOI、Citation、摘要，来判断论文的分类**\n",
    "\n",
    "本来没什么可聊的，但是很不幸，最后是个**第4名，并列第3**的成绩，由于提交次数多而落败（**取前3**）。[捂脸]\n",
    "![](https://ai-studio-static-online.cdn.bcebos.com/bb3db12ca0604ceab9d69e4f117406de3e9373f7a04f4298991895518ca7afa9)\n",
    "\n",
    "\n",
    "过往已矣，那就写点东西，当作用paddle玩nlp比赛的入门跟大家交流交流。\n",
    "\n",
    "本文分为这几个部分：\n",
    "- 比赛与任务\n",
    "- 一些方法 \n",
    "- 一些技巧\n",
    "- 一些思考\n",
    "\n"
   ]
  },
  {
   "cell_type": "code",
   "execution_count": 1,
   "metadata": {
    "scrolled": true,
    "tags": []
   },
   "outputs": [],
   "source": [
    "%%capture\n",
    "# 安装依赖\n",
    "# !pip install -r work/requirements.txt"
   ]
  },
  {
   "cell_type": "markdown",
   "metadata": {},
   "source": [
    "## 比赛与任务\n",
    "\n",
    "我们先来看看此次比赛的数据"
   ]
  },
  {
   "cell_type": "markdown",
   "metadata": {},
   "source": [
    "### 1. 数据概览"
   ]
  },
  {
   "cell_type": "code",
   "execution_count": 3,
   "metadata": {
    "tags": []
   },
   "outputs": [
    {
     "name": "stdout",
     "output_type": "stream",
     "text": [
      "Archive:  基于论文摘要的文本分类与查询性问答公开数据.zip\n",
      "   creating: 基于论文摘要的文本分类与查询性问答公开数据/\n",
      "  inflating: 基于论文摘要的文本分类与查询性问答公开数据/test.csv  \n",
      "  inflating: 基于论文摘要的文本分类与查询性问答公开数据/train.csv  \n",
      "  inflating: 基于论文摘要的文本分类与查询性问答公开数据/提交示例.csv  \n"
     ]
    }
   ],
   "source": [
    "!unzip -O GBK 基于论文摘要的文本分类与查询性问答公开数据.zip"
   ]
  },
  {
   "cell_type": "code",
   "execution_count": 4,
   "metadata": {
    "tags": []
   },
   "outputs": [],
   "source": [
    "!mv 基于论文摘要的文本分类与查询性问答公开数据/ data/"
   ]
  },
  {
   "cell_type": "code",
   "execution_count": 5,
   "metadata": {
    "scrolled": true,
    "tags": []
   },
   "outputs": [],
   "source": [
    "import numpy as np\n",
    "import pandas as pd\n",
    "\n",
    "df_train = pd.read_csv('data/train.csv')\n",
    "df_test = pd.read_csv('data/test.csv')\n",
    "df_sub = pd.read_csv('data/提交示例.csv')"
   ]
  },
  {
   "cell_type": "code",
   "execution_count": 6,
   "metadata": {
    "scrolled": true,
    "tags": []
   },
   "outputs": [
    {
     "data": {
      "text/html": [
       "<div>\n",
       "<style scoped>\n",
       "    .dataframe tbody tr th:only-of-type {\n",
       "        vertical-align: middle;\n",
       "    }\n",
       "\n",
       "    .dataframe tbody tr th {\n",
       "        vertical-align: top;\n",
       "    }\n",
       "\n",
       "    .dataframe thead th {\n",
       "        text-align: right;\n",
       "    }\n",
       "</style>\n",
       "<table border=\"1\" class=\"dataframe\">\n",
       "  <thead>\n",
       "    <tr style=\"text-align: right;\">\n",
       "      <th></th>\n",
       "      <th>Title</th>\n",
       "      <th>Authors</th>\n",
       "      <th>Citation</th>\n",
       "      <th>Abstract</th>\n",
       "      <th>DOI</th>\n",
       "      <th>Topic(Label)</th>\n",
       "    </tr>\n",
       "  </thead>\n",
       "  <tbody>\n",
       "    <tr>\n",
       "      <th>0</th>\n",
       "      <td>\\n  \\n    \\n    \\n    \\n    \\n      \\n  The Va...</td>\n",
       "      <td>['Seyhmus Tunc', 'Suleyman Cemil Oglak', 'Fatm...</td>\n",
       "      <td>2022 Jun;32(6):722-727.</td>\n",
       "      <td>\\n\\n\\n          Objective:\\n        \\n      \\n...</td>\n",
       "      <td>\\n        doi: 10.29271/jcpsp.2022.06.722.\\n  ...</td>\n",
       "      <td>Abdominal+Fat</td>\n",
       "    </tr>\n",
       "    <tr>\n",
       "      <th>1</th>\n",
       "      <td>\\n  \\n    \\n    \\n    \\n    \\n      \\n  Metfor...</td>\n",
       "      <td>['Katrin Schmitz', 'Eva-Maria Turnwald', 'Tobi...</td>\n",
       "      <td>2022 May 30;14(11):2288.</td>\n",
       "      <td>\\n\\n      \\n      With the gaining prevalence ...</td>\n",
       "      <td>\\n        doi: 10.3390/nu14112288.\\n</td>\n",
       "      <td>Abdominal+Fat</td>\n",
       "    </tr>\n",
       "  </tbody>\n",
       "</table>\n",
       "</div>"
      ],
      "text/plain": [
       "                                               Title  \\\n",
       "0  \\n  \\n    \\n    \\n    \\n    \\n      \\n  The Va...   \n",
       "1  \\n  \\n    \\n    \\n    \\n    \\n      \\n  Metfor...   \n",
       "\n",
       "                                             Authors  \\\n",
       "0  ['Seyhmus Tunc', 'Suleyman Cemil Oglak', 'Fatm...   \n",
       "1  ['Katrin Schmitz', 'Eva-Maria Turnwald', 'Tobi...   \n",
       "\n",
       "                   Citation  \\\n",
       "0   2022 Jun;32(6):722-727.   \n",
       "1  2022 May 30;14(11):2288.   \n",
       "\n",
       "                                            Abstract  \\\n",
       "0  \\n\\n\\n          Objective:\\n        \\n      \\n...   \n",
       "1  \\n\\n      \\n      With the gaining prevalence ...   \n",
       "\n",
       "                                                 DOI   Topic(Label)  \n",
       "0  \\n        doi: 10.29271/jcpsp.2022.06.722.\\n  ...  Abdominal+Fat  \n",
       "1         \\n        doi: 10.3390/nu14112288.\\n        Abdominal+Fat  "
      ]
     },
     "execution_count": 6,
     "metadata": {},
     "output_type": "execute_result"
    }
   ],
   "source": [
    "df_train.head(2)"
   ]
  },
  {
   "cell_type": "code",
   "execution_count": 7,
   "metadata": {
    "scrolled": true,
    "tags": []
   },
   "outputs": [
    {
     "data": {
      "text/html": [
       "<div>\n",
       "<style scoped>\n",
       "    .dataframe tbody tr th:only-of-type {\n",
       "        vertical-align: middle;\n",
       "    }\n",
       "\n",
       "    .dataframe tbody tr th {\n",
       "        vertical-align: top;\n",
       "    }\n",
       "\n",
       "    .dataframe thead th {\n",
       "        text-align: right;\n",
       "    }\n",
       "</style>\n",
       "<table border=\"1\" class=\"dataframe\">\n",
       "  <thead>\n",
       "    <tr style=\"text-align: right;\">\n",
       "      <th></th>\n",
       "      <th>Title</th>\n",
       "      <th>Authors</th>\n",
       "      <th>Citation</th>\n",
       "      <th>Abstract</th>\n",
       "      <th>DOI</th>\n",
       "    </tr>\n",
       "  </thead>\n",
       "  <tbody>\n",
       "    <tr>\n",
       "      <th>0</th>\n",
       "      <td>\\n  \\n    \\n    \\n    \\n    \\n      \\n  Gut mi...</td>\n",
       "      <td>['Xiaomin Su', 'Minying Zhang', 'Houbao Qi', '...</td>\n",
       "      <td>2022 Jan 24;10(1):13.</td>\n",
       "      <td>\\n\\n\\n          Background:\\n        \\n      \\...</td>\n",
       "      <td>\\n        doi: 10.1186/s40168-021-01205-8.\\n  ...</td>\n",
       "    </tr>\n",
       "    <tr>\n",
       "      <th>1</th>\n",
       "      <td>\\n  \\n    \\n    \\n    \\n    \\n      \\n  [A spa...</td>\n",
       "      <td>['Naigong Yu', 'Yishen Liao', 'Naigong Yu', 'Y...</td>\n",
       "      <td>2022 Apr 25;39(2):217-227.</td>\n",
       "      <td>\\n\\n      \\n      Physiological studies reveal...</td>\n",
       "      <td>\\n        doi: 10.7507/1001-5515.202109051.\\n ...</td>\n",
       "    </tr>\n",
       "  </tbody>\n",
       "</table>\n",
       "</div>"
      ],
      "text/plain": [
       "                                               Title  \\\n",
       "0  \\n  \\n    \\n    \\n    \\n    \\n      \\n  Gut mi...   \n",
       "1  \\n  \\n    \\n    \\n    \\n    \\n      \\n  [A spa...   \n",
       "\n",
       "                                             Authors  \\\n",
       "0  ['Xiaomin Su', 'Minying Zhang', 'Houbao Qi', '...   \n",
       "1  ['Naigong Yu', 'Yishen Liao', 'Naigong Yu', 'Y...   \n",
       "\n",
       "                     Citation  \\\n",
       "0       2022 Jan 24;10(1):13.   \n",
       "1  2022 Apr 25;39(2):217-227.   \n",
       "\n",
       "                                            Abstract  \\\n",
       "0  \\n\\n\\n          Background:\\n        \\n      \\...   \n",
       "1  \\n\\n      \\n      Physiological studies reveal...   \n",
       "\n",
       "                                                 DOI  \n",
       "0  \\n        doi: 10.1186/s40168-021-01205-8.\\n  ...  \n",
       "1  \\n        doi: 10.7507/1001-5515.202109051.\\n ...  "
      ]
     },
     "execution_count": 7,
     "metadata": {},
     "output_type": "execute_result"
    }
   ],
   "source": [
    "df_test.head(2)"
   ]
  },
  {
   "cell_type": "markdown",
   "metadata": {},
   "source": [
    "训练数据包含：\n",
    "* Title: 文章标题\n",
    "* Authors: 文章作者\n",
    "* Citation: 文章引用\n",
    "* Abstract: 文章摘要\n",
    "* DOI: 文章doi\n",
    "\n",
    "以及标签：Topic(Label)\n",
    "\n",
    "既然要多分类，那就要确认有哪些类别：\n"
   ]
  },
  {
   "cell_type": "code",
   "execution_count": 8,
   "metadata": {
    "tags": []
   },
   "outputs": [
    {
     "data": {
      "text/plain": [
       "Topic(Label)\n",
       "Abdominal+Fat                  1500\n",
       "Artificial+Intelligence        1500\n",
       "Diabetes+Mellitus              1500\n",
       "Fasting                        1500\n",
       "Gastrointestinal+Microbiome    1500\n",
       "Inflammation                   1500\n",
       "MicroRNAs                      1500\n",
       "Neoplasms                      1500\n",
       "Parkinson+Disease              1500\n",
       "psychology                     1500\n",
       "Culicidae                      1499\n",
       " Humboldt states                  1\n",
       "Name: count, dtype: int64"
      ]
     },
     "execution_count": 8,
     "metadata": {},
     "output_type": "execute_result"
    }
   ],
   "source": [
    "df_train['Topic(Label)'].value_counts()"
   ]
  },
  {
   "cell_type": "markdown",
   "metadata": {},
   "source": [
    "可以看到数据的分布还是很均衡的，也就是说，这是个连数据均衡问题都不存在的多分类问题。nlp入门绝配！\n",
    "\n",
    "除了“ Humboldt states”这个标签，我这里直接将其去掉。由此得到下面的标签数据："
   ]
  },
  {
   "cell_type": "code",
   "execution_count": 9,
   "metadata": {
    "scrolled": true,
    "tags": []
   },
   "outputs": [],
   "source": [
    "LABELS = ['Gastrointestinal+Microbiome',\n",
    "'MicroRNAs',\n",
    "'Diabetes+Mellitus',\n",
    "'Inflammation',\n",
    "'psychology',\n",
    "'Neoplasms',\n",
    "'Abdominal+Fat',\n",
    "'Artificial+Intelligence',\n",
    "'Fasting',\n",
    "'Parkinson+Disease',\n",
    "'Culicidae',]\n",
    "# 生成label与idx的对应关系dict\n",
    "# label:idx\n",
    "LABELS = {k:i for i, k in enumerate(LABELS)}\n",
    "# idx:label\n",
    "LABELS_IDX = {i:k for k, i in LABELS.items()}"
   ]
  },
  {
   "cell_type": "markdown",
   "metadata": {},
   "source": [
    "由此得到一个11分类任务，接下来就是构建训练数据。"
   ]
  },
  {
   "cell_type": "markdown",
   "metadata": {},
   "source": [
    "### 2. 数据预处理"
   ]
  },
  {
   "cell_type": "code",
   "execution_count": 10,
   "metadata": {
    "scrolled": true,
    "tags": []
   },
   "outputs": [],
   "source": [
    "import re\n",
    "def get_data(df, is_test=False):\n",
    "    # 合并空白字符的regex\n",
    "    pattern = '\\\\n\\s*'\n",
    "\n",
    "    data_x, data_y = [], []\n",
    "    for _, row in df.iterrows():\n",
    "        title = str(row['Title']).strip().lower()\n",
    "        citation = str(row['Citation']).strip().lower()\n",
    "        abstract = str(row['Abstract']).strip().lower()\n",
    "        abstract = re.sub(pattern, ' ', abstract).strip()\n",
    "\n",
    "        data_x.append(title + '[SEP]' + citation + '[SEP]' + abstract)\n",
    "\n",
    "        label = 0\n",
    "        if not is_test:\n",
    "            label = str(row['Topic(Label)']).strip()\n",
    "            if label in LABELS:\n",
    "                label = LABELS[label]\n",
    "            else:\n",
    "                label = 0\n",
    "\n",
    "        data_y.append(label)\n",
    "    \n",
    "    return data_x, data_y"
   ]
  },
  {
   "cell_type": "code",
   "execution_count": 11,
   "metadata": {
    "scrolled": true,
    "tags": []
   },
   "outputs": [
    {
     "data": {
      "text/plain": [
       "(16504, 16504)"
      ]
     },
     "execution_count": 11,
     "metadata": {},
     "output_type": "execute_result"
    }
   ],
   "source": [
    "train_x, train_y = get_data(df_train, is_test=False)\n",
    "len(train_x), len(train_y)"
   ]
  },
  {
   "cell_type": "code",
   "execution_count": 12,
   "metadata": {
    "scrolled": true,
    "tags": []
   },
   "outputs": [
    {
     "data": {
      "text/plain": [
       "(\"the value of first-trimester maternal abdominal visceral adipose tissue thickness in predicting the subsequent development of gestational diabetes mellitus[SEP]2022 jun;32(6):722-727.[SEP]objective: to examine the performance of first-trimester visceral (pre-peritoneal), subcutaneous, and total adipose tissue thickness (att) to predict the patients with subsequently developing gestational diabetes mellitus (gdm). study design: observational study. place and duration of study: department of obstetrics and gynecology, diyarbakä±r gazi yaå\\x9fargil training and research hospital from january 2021 to july 2021. methodology: a total of 100 pregnant women underwent sonographic measurement of subcutaneous and visceral att at 11-14 weeks' gestation. a 75-g oral glucose tolerance test (ogtt) was conducted between 24-28 weeks of pregnancy for the diagnosis of gdm. results: the mean visceral, subcutaneous, and total att were significantly higher in the gdm group (24.75 â± 10.34 mm, 26.33 â± 5.33 mm, 51.08 â± 14.4 mm) than in the group without a gdm diagnosis (16.68 â± 6.73 mm, 17.68 â± 4.86 mm, 34.25 â± 11.04, respectively, p<0.001). a pre-gestational bmi >30 kg/m2 (odds ratio [or]=10.20, 95% ci=2.519-41.302, p=0.001), visceral att (or=33.2, 95% ci=7.395-149.046, p<0.001), subcutaneous att (or=4.543, 95% ci=1.149-17.960, p=0.031), and total att (or=10.895, 95% ci=2.682-44.262, p=0.001) were the factors that were found to be significantly associated with the subsequent development of gdm after adjusting for potential confounders (maternal age, and parity). the most significant risk factor for the prediction of gdm is visceral att with an or of 33.2. conclusion: us measurement of maternal visceral att during first-trimester fetal aneuploidy screening is a reliable, reproducible, cost-effective, and safe method to identify pregnant women at high risk for gdm. key words: gestational diabetes mellitus, visceral adipose tissue thickness, subcutaneous adipose tissue thickness.\",\n",
       " 6)"
      ]
     },
     "execution_count": 12,
     "metadata": {},
     "output_type": "execute_result"
    }
   ],
   "source": [
    "train_x[0], train_y[0]"
   ]
  },
  {
   "cell_type": "markdown",
   "metadata": {},
   "source": [
    "这里的数据处理也很简单，取每条记录的title、citation、abstract三部分数据，使用正则表达式: pattern = '\\\\n\\s*' 将文字中间的多个空白（回车、空格等）合成一个，然后strip掉前后的空白字符，完事儿～\n",
    "\n",
    "在字符串拼接的时候，这里使用[SEP]作为连接符，tokenizer的时候会作为特殊字符处理，为的是希望模型能够区分各个部分的内容。\n",
    "\n",
    "为了能够使用paddle处理数据，还需要将其封装为特定的loader模式，但是在这之前我们需要确认具体使用哪个模型进行分类，这里使用**bert-base-uncased**\n",
    "作为演示，后面会说说各个模型的实验结果，训练中主要参数如：\n",
    "* model_name = 'bert-base-uncased' (比赛中改为bert-large-uncased)\n",
    "* MAX_LEN = 128 (比赛中改为512)\n",
    "* BATCH_SIZE = 64 (比赛中改为8，32g的gpu环境使用bert-large-uncased模型比较合适的大小)\n",
    "* EPOCHS = 3 (比赛中改为11足够了)\n",
    "* optimizer = paddle.optimizer.AdamW(learning_rate=1e-5, parameters=model.parameters()) (learning_rate=1e-4可能会不收敛)\n",
    "\n",
    "另外，这里使用paddlenlp.transformers中的AutoModelForSequenceClassification, AutoTokenizer。使用AutoXXX的最大好处是，尝试多种模型的时候只要改一改预训练模型名称就可以了，谁不想少敲几行代码呢..."
   ]
  },
  {
   "cell_type": "markdown",
   "metadata": {},
   "source": [
    "### 3. 模型与训练"
   ]
  },
  {
   "cell_type": "code",
   "execution_count": 13,
   "metadata": {
    "scrolled": true,
    "tags": []
   },
   "outputs": [
    {
     "name": "stderr",
     "output_type": "stream",
     "text": [
      "/data1/ckw/micromamba/envs/paddle/lib/python3.11/site-packages/tqdm/auto.py:21: TqdmWarning: IProgress not found. Please update jupyter and ipywidgets. See https://ipywidgets.readthedocs.io/en/stable/user_install.html\n",
      "  from .autonotebook import tqdm as notebook_tqdm\n",
      "/data1/ckw/micromamba/envs/paddle/lib/python3.11/site-packages/_distutils_hack/__init__.py:26: UserWarning: Setuptools is replacing distutils.\n",
      "  warnings.warn(\"Setuptools is replacing distutils.\")\n",
      "\u001b[32m[2024-03-30 17:43:55,549] [    INFO]\u001b[0m - We are using <class 'paddlenlp.transformers.bert.modeling.BertForSequenceClassification'> to load 'bert-base-uncased'.\u001b[0m\n",
      "\u001b[32m[2024-03-30 17:43:55,552] [    INFO]\u001b[0m - Configuration saved in /home/kewei/.paddlenlp/models/bert-base-uncased/config.json\u001b[0m\n",
      "\u001b[32m[2024-03-30 17:43:55,783] [    INFO]\u001b[0m - Downloading https://bj.bcebos.com/paddlenlp/models/transformers/bert-base-uncased.pdparams\u001b[0m\n",
      "\u001b[32m[2024-03-30 17:43:55,786] [    INFO]\u001b[0m - Downloading bert-base-uncased.pdparams from https://bj.bcebos.com/paddlenlp/models/transformers/bert-base-uncased.pdparams\u001b[0m\n",
      "100%|█████████████████████████████████████████| 775M/775M [01:10<00:00, 11.5MB/s]\n",
      "\u001b[32m[2024-03-30 17:45:07,332] [    INFO]\u001b[0m - Loading weights file model_state.pdparams from cache at /home/kewei/.paddlenlp/models/bert-base-uncased/model_state.pdparams\u001b[0m\n",
      "\u001b[32m[2024-03-30 17:45:10,825] [    INFO]\u001b[0m - Loaded weights file from disk, setting weights to model.\u001b[0m\n",
      "W0330 17:45:10.832175 42230 gpu_resources.cc:96] The GPU architecture in your current machine is Pascal, which is not compatible with Paddle installation with arch: 70 75 80 86 , it is recommended to install the corresponding wheel package according to the installation information on the official Paddle website.\n",
      "W0330 17:45:10.832227 42230 gpu_resources.cc:119] Please NOTE: device: 0, GPU Compute Capability: 6.1, Driver API Version: 12.3, Runtime API Version: 11.7\n",
      "W0330 17:45:10.832880 42230 dynamic_loader.cc:303] The third-party dynamic library (libcudnn.so) that Paddle depends on is not configured correctly. (error code is /usr/local/cuda/lib64/libcudnn.so: cannot open shared object file: No such file or directory)\n",
      "  Suggestions:\n",
      "  1. Check if the third-party dynamic library (e.g. CUDA, CUDNN) is installed correctly and its version is matched with paddlepaddle you installed.\n",
      "  2. Configure third-party dynamic library environment variables as follows:\n",
      "  - Linux: set LD_LIBRARY_PATH by `export LD_LIBRARY_PATH=...`\n",
      "  - Windows: set PATH by `set PATH=XXX;\n"
     ]
    },
    {
     "ename": "RuntimeError",
     "evalue": "(PreconditionNotMet) Cannot load cudnn shared library. Cannot invoke method cudnnGetVersion.\n  [Hint: cudnn_dso_handle should not be null.] (at ../paddle/phi/backends/dynload/cudnn.cc:64)\n",
     "output_type": "error",
     "traceback": [
      "\u001b[0;31m---------------------------------------------------------------------------\u001b[0m",
      "\u001b[0;31mRuntimeError\u001b[0m                              Traceback (most recent call last)",
      "Cell \u001b[0;32mIn[13], line 14\u001b[0m\n\u001b[1;32m     12\u001b[0m \u001b[38;5;66;03m# 生成预训练模型\u001b[39;00m\n\u001b[1;32m     13\u001b[0m num_classes \u001b[38;5;241m=\u001b[39m \u001b[38;5;28mlen\u001b[39m(LABELS)\n\u001b[0;32m---> 14\u001b[0m model \u001b[38;5;241m=\u001b[39m \u001b[43mAutoModelForSequenceClassification\u001b[49m\u001b[38;5;241;43m.\u001b[39;49m\u001b[43mfrom_pretrained\u001b[49m\u001b[43m(\u001b[49m\u001b[43mmodel_name\u001b[49m\u001b[43m,\u001b[49m\u001b[43m \u001b[49m\u001b[43mnum_classes\u001b[49m\u001b[38;5;241;43m=\u001b[39;49m\u001b[43mnum_classes\u001b[49m\u001b[43m)\u001b[49m\n\u001b[1;32m     15\u001b[0m tokenizer \u001b[38;5;241m=\u001b[39m AutoTokenizer\u001b[38;5;241m.\u001b[39mfrom_pretrained(model_name)\n\u001b[1;32m     17\u001b[0m \u001b[38;5;66;03m# 数据预处理函数，利用分词器将文本转化为整数序列\u001b[39;00m\n",
      "File \u001b[0;32m/data1/ckw/micromamba/envs/paddle/lib/python3.11/site-packages/paddlenlp/transformers/auto/modeling.py:608\u001b[0m, in \u001b[0;36mAutoModelForSequenceClassification.from_pretrained\u001b[0;34m(cls, pretrained_model_name_or_path, *model_args, **kwargs)\u001b[0m\n\u001b[1;32m    573\u001b[0m \u001b[38;5;129m@classmethod\u001b[39m\n\u001b[1;32m    574\u001b[0m \u001b[38;5;28;01mdef\u001b[39;00m \u001b[38;5;21mfrom_pretrained\u001b[39m(\u001b[38;5;28mcls\u001b[39m, pretrained_model_name_or_path, \u001b[38;5;241m*\u001b[39mmodel_args, \u001b[38;5;241m*\u001b[39m\u001b[38;5;241m*\u001b[39mkwargs):\n\u001b[1;32m    575\u001b[0m \u001b[38;5;250m    \u001b[39m\u001b[38;5;124;03m\"\"\"\u001b[39;00m\n\u001b[1;32m    576\u001b[0m \u001b[38;5;124;03m    Creates an instance of `AutoModelForSequenceClassification`. Model weights are loaded\u001b[39;00m\n\u001b[1;32m    577\u001b[0m \u001b[38;5;124;03m    by specifying name of a built-in pretrained model, or a community contributed model,\u001b[39;00m\n\u001b[0;32m   (...)\u001b[0m\n\u001b[1;32m    606\u001b[0m \u001b[38;5;124;03m            # <class 'paddlenlp.transformers.bert.modeling.BertModelForSequenceClassification'>\u001b[39;00m\n\u001b[1;32m    607\u001b[0m \u001b[38;5;124;03m    \"\"\"\u001b[39;00m\n\u001b[0;32m--> 608\u001b[0m     \u001b[38;5;28;01mreturn\u001b[39;00m \u001b[38;5;28;43mcls\u001b[39;49m\u001b[38;5;241;43m.\u001b[39;49m\u001b[43m_from_pretrained\u001b[49m\u001b[43m(\u001b[49m\u001b[43mpretrained_model_name_or_path\u001b[49m\u001b[43m,\u001b[49m\u001b[43m \u001b[49m\u001b[38;5;241;43m*\u001b[39;49m\u001b[43mmodel_args\u001b[49m\u001b[43m,\u001b[49m\u001b[43m \u001b[49m\u001b[38;5;241;43m*\u001b[39;49m\u001b[38;5;241;43m*\u001b[39;49m\u001b[43mkwargs\u001b[49m\u001b[43m)\u001b[49m\n",
      "File \u001b[0;32m/data1/ckw/micromamba/envs/paddle/lib/python3.11/site-packages/paddlenlp/transformers/auto/modeling.py:352\u001b[0m, in \u001b[0;36m_BaseAutoModelClass._from_pretrained\u001b[0;34m(cls, pretrained_model_name_or_path, task, *model_args, **kwargs)\u001b[0m\n\u001b[1;32m    343\u001b[0m                         \u001b[38;5;28;01mraise\u001b[39;00m \u001b[38;5;167;01mAttributeError\u001b[39;00m(\n\u001b[1;32m    344\u001b[0m                             \u001b[38;5;124mf\u001b[39m\u001b[38;5;124m\"\u001b[39m\u001b[38;5;124mmodule \u001b[39m\u001b[38;5;124m'\u001b[39m\u001b[38;5;132;01m{\u001b[39;00mimport_class\u001b[38;5;241m.\u001b[39m\u001b[38;5;18m__name__\u001b[39m\u001b[38;5;132;01m}\u001b[39;00m\u001b[38;5;124m'\u001b[39m\u001b[38;5;124m only supports the following classes: \u001b[39m\u001b[38;5;124m\"\u001b[39m\n\u001b[1;32m    345\u001b[0m                             \u001b[38;5;241m+\u001b[39m \u001b[38;5;124m\"\u001b[39m\u001b[38;5;124m, \u001b[39m\u001b[38;5;124m\"\u001b[39m\u001b[38;5;241m.\u001b[39mjoin(m \u001b[38;5;28;01mfor\u001b[39;00m m \u001b[38;5;129;01min\u001b[39;00m all_model_classes)\n\u001b[0;32m   (...)\u001b[0m\n\u001b[1;32m    349\u001b[0m                             \u001b[38;5;241m+\u001b[39m \u001b[38;5;124mf\u001b[39m\u001b[38;5;124m\"\u001b[39m\u001b[38;5;124m to load \u001b[39m\u001b[38;5;124m'\u001b[39m\u001b[38;5;132;01m{\u001b[39;00mpretrained_model_name_or_path\u001b[38;5;132;01m}\u001b[39;00m\u001b[38;5;124m'\u001b[39m\u001b[38;5;130;01m\\n\u001b[39;00m\u001b[38;5;124m\"\u001b[39m\n\u001b[1;32m    350\u001b[0m                         )\n\u001b[1;32m    351\u001b[0m                 logger\u001b[38;5;241m.\u001b[39minfo(\u001b[38;5;124mf\u001b[39m\u001b[38;5;124m\"\u001b[39m\u001b[38;5;124mWe are using \u001b[39m\u001b[38;5;132;01m{\u001b[39;00mmodel_class\u001b[38;5;132;01m}\u001b[39;00m\u001b[38;5;124m to load \u001b[39m\u001b[38;5;124m'\u001b[39m\u001b[38;5;132;01m{\u001b[39;00mpretrained_model_name_or_path\u001b[38;5;132;01m}\u001b[39;00m\u001b[38;5;124m'\u001b[39m\u001b[38;5;124m.\u001b[39m\u001b[38;5;124m\"\u001b[39m)\n\u001b[0;32m--> 352\u001b[0m                 \u001b[38;5;28;01mreturn\u001b[39;00m \u001b[43mmodel_class\u001b[49m\u001b[38;5;241;43m.\u001b[39;49m\u001b[43mfrom_pretrained\u001b[49m\u001b[43m(\u001b[49m\u001b[43mpretrained_model_name_or_path\u001b[49m\u001b[43m,\u001b[49m\u001b[43m \u001b[49m\u001b[38;5;241;43m*\u001b[39;49m\u001b[43mmodel_args\u001b[49m\u001b[43m,\u001b[49m\u001b[43m \u001b[49m\u001b[38;5;241;43m*\u001b[39;49m\u001b[38;5;241;43m*\u001b[39;49m\u001b[43mkwargs\u001b[49m\u001b[43m)\u001b[49m\n\u001b[1;32m    353\u001b[0m \u001b[38;5;66;03m# From local dir path\u001b[39;00m\n\u001b[1;32m    354\u001b[0m \u001b[38;5;28;01melif\u001b[39;00m os\u001b[38;5;241m.\u001b[39mpath\u001b[38;5;241m.\u001b[39misdir(pretrained_model_name_or_path):\n",
      "File \u001b[0;32m/data1/ckw/micromamba/envs/paddle/lib/python3.11/site-packages/paddlenlp/transformers/model_utils.py:2209\u001b[0m, in \u001b[0;36mPretrainedModel.from_pretrained\u001b[0;34m(cls, pretrained_model_name_or_path, *args, **kwargs)\u001b[0m\n\u001b[1;32m   2207\u001b[0m init_args \u001b[38;5;241m=\u001b[39m config[\u001b[38;5;124m\"\u001b[39m\u001b[38;5;124minit_args\u001b[39m\u001b[38;5;124m\"\u001b[39m] \u001b[38;5;129;01mor\u001b[39;00m ()\n\u001b[1;32m   2208\u001b[0m \u001b[38;5;28;01mwith\u001b[39;00m ContextManagers(init_contexts):\n\u001b[0;32m-> 2209\u001b[0m     model \u001b[38;5;241m=\u001b[39m \u001b[38;5;28;43mcls\u001b[39;49m\u001b[43m(\u001b[49m\u001b[43mconfig\u001b[49m\u001b[43m,\u001b[49m\u001b[43m \u001b[49m\u001b[38;5;241;43m*\u001b[39;49m\u001b[43minit_args\u001b[49m\u001b[43m,\u001b[49m\u001b[43m \u001b[49m\u001b[38;5;241;43m*\u001b[39;49m\u001b[38;5;241;43m*\u001b[39;49m\u001b[43mmodel_kwargs\u001b[49m\u001b[43m)\u001b[49m\n\u001b[1;32m   2211\u001b[0m \u001b[38;5;28;01mif\u001b[39;00m use_keep_in_fp32_modules:\n\u001b[1;32m   2212\u001b[0m     \u001b[38;5;66;03m# low_cpu_mem_usage = True\u001b[39;00m\n\u001b[1;32m   2213\u001b[0m     keep_in_fp32_modules \u001b[38;5;241m=\u001b[39m model\u001b[38;5;241m.\u001b[39m_keep_in_fp32_modules\n",
      "File \u001b[0;32m/data1/ckw/micromamba/envs/paddle/lib/python3.11/site-packages/paddlenlp/transformers/utils.py:255\u001b[0m, in \u001b[0;36mInitTrackerMeta.init_and_track_conf.<locals>.__impl__\u001b[0;34m(self, *args, **kwargs)\u001b[0m\n\u001b[1;32m    253\u001b[0m     pre_init_func(\u001b[38;5;28mself\u001b[39m, init_func, \u001b[38;5;241m*\u001b[39margs, \u001b[38;5;241m*\u001b[39m\u001b[38;5;241m*\u001b[39mkwargs)\n\u001b[1;32m    254\u001b[0m \u001b[38;5;66;03m# keep full configuration\u001b[39;00m\n\u001b[0;32m--> 255\u001b[0m \u001b[43minit_func\u001b[49m\u001b[43m(\u001b[49m\u001b[38;5;28;43mself\u001b[39;49m\u001b[43m,\u001b[49m\u001b[43m \u001b[49m\u001b[38;5;241;43m*\u001b[39;49m\u001b[43margs\u001b[49m\u001b[43m,\u001b[49m\u001b[43m \u001b[49m\u001b[38;5;241;43m*\u001b[39;49m\u001b[38;5;241;43m*\u001b[39;49m\u001b[43mkwargs\u001b[49m\u001b[43m)\u001b[49m\n\u001b[1;32m    256\u001b[0m \u001b[38;5;66;03m# registed helper by `post_init_func`\u001b[39;00m\n\u001b[1;32m    257\u001b[0m \u001b[38;5;28;01mif\u001b[39;00m post_init_func:\n",
      "File \u001b[0;32m/data1/ckw/micromamba/envs/paddle/lib/python3.11/site-packages/paddlenlp/transformers/bert/modeling.py:636\u001b[0m, in \u001b[0;36mBertForSequenceClassification.__init__\u001b[0;34m(self, config)\u001b[0m\n\u001b[1;32m    633\u001b[0m \u001b[38;5;28;01mdef\u001b[39;00m \u001b[38;5;21m__init__\u001b[39m(\u001b[38;5;28mself\u001b[39m, config: BertConfig):\n\u001b[1;32m    634\u001b[0m     \u001b[38;5;28msuper\u001b[39m(BertForSequenceClassification, \u001b[38;5;28mself\u001b[39m)\u001b[38;5;241m.\u001b[39m\u001b[38;5;21m__init__\u001b[39m(config)\n\u001b[0;32m--> 636\u001b[0m     \u001b[38;5;28mself\u001b[39m\u001b[38;5;241m.\u001b[39mbert \u001b[38;5;241m=\u001b[39m \u001b[43mBertModel\u001b[49m\u001b[43m(\u001b[49m\u001b[43mconfig\u001b[49m\u001b[43m)\u001b[49m\n\u001b[1;32m    637\u001b[0m     \u001b[38;5;28mself\u001b[39m\u001b[38;5;241m.\u001b[39mnum_labels \u001b[38;5;241m=\u001b[39m config\u001b[38;5;241m.\u001b[39mnum_labels\n\u001b[1;32m    638\u001b[0m     \u001b[38;5;28mself\u001b[39m\u001b[38;5;241m.\u001b[39mdropout \u001b[38;5;241m=\u001b[39m nn\u001b[38;5;241m.\u001b[39mDropout(\n\u001b[1;32m    639\u001b[0m         config\u001b[38;5;241m.\u001b[39mclassifier_dropout \u001b[38;5;28;01mif\u001b[39;00m config\u001b[38;5;241m.\u001b[39mclassifier_dropout \u001b[38;5;129;01mis\u001b[39;00m \u001b[38;5;129;01mnot\u001b[39;00m \u001b[38;5;28;01mNone\u001b[39;00m \u001b[38;5;28;01melse\u001b[39;00m config\u001b[38;5;241m.\u001b[39mhidden_dropout_prob\n\u001b[1;32m    640\u001b[0m     )\n",
      "File \u001b[0;32m/data1/ckw/micromamba/envs/paddle/lib/python3.11/site-packages/paddlenlp/transformers/utils.py:255\u001b[0m, in \u001b[0;36mInitTrackerMeta.init_and_track_conf.<locals>.__impl__\u001b[0;34m(self, *args, **kwargs)\u001b[0m\n\u001b[1;32m    253\u001b[0m     pre_init_func(\u001b[38;5;28mself\u001b[39m, init_func, \u001b[38;5;241m*\u001b[39margs, \u001b[38;5;241m*\u001b[39m\u001b[38;5;241m*\u001b[39mkwargs)\n\u001b[1;32m    254\u001b[0m \u001b[38;5;66;03m# keep full configuration\u001b[39;00m\n\u001b[0;32m--> 255\u001b[0m \u001b[43minit_func\u001b[49m\u001b[43m(\u001b[49m\u001b[38;5;28;43mself\u001b[39;49m\u001b[43m,\u001b[49m\u001b[43m \u001b[49m\u001b[38;5;241;43m*\u001b[39;49m\u001b[43margs\u001b[49m\u001b[43m,\u001b[49m\u001b[43m \u001b[49m\u001b[38;5;241;43m*\u001b[39;49m\u001b[38;5;241;43m*\u001b[39;49m\u001b[43mkwargs\u001b[49m\u001b[43m)\u001b[49m\n\u001b[1;32m    256\u001b[0m \u001b[38;5;66;03m# registed helper by `post_init_func`\u001b[39;00m\n\u001b[1;32m    257\u001b[0m \u001b[38;5;28;01mif\u001b[39;00m post_init_func:\n",
      "File \u001b[0;32m/data1/ckw/micromamba/envs/paddle/lib/python3.11/site-packages/paddlenlp/transformers/bert/modeling.py:291\u001b[0m, in \u001b[0;36mBertModel.__init__\u001b[0;34m(self, config)\u001b[0m\n\u001b[1;32m    289\u001b[0m \u001b[38;5;28mself\u001b[39m\u001b[38;5;241m.\u001b[39mpad_token_id \u001b[38;5;241m=\u001b[39m config\u001b[38;5;241m.\u001b[39mpad_token_id\n\u001b[1;32m    290\u001b[0m \u001b[38;5;28mself\u001b[39m\u001b[38;5;241m.\u001b[39minitializer_range \u001b[38;5;241m=\u001b[39m config\u001b[38;5;241m.\u001b[39minitializer_range\n\u001b[0;32m--> 291\u001b[0m \u001b[38;5;28mself\u001b[39m\u001b[38;5;241m.\u001b[39membeddings \u001b[38;5;241m=\u001b[39m \u001b[43mBertEmbeddings\u001b[49m\u001b[43m(\u001b[49m\u001b[43mconfig\u001b[49m\u001b[43m)\u001b[49m\n\u001b[1;32m    292\u001b[0m \u001b[38;5;28;01mif\u001b[39;00m config\u001b[38;5;241m.\u001b[39mfuse \u001b[38;5;129;01mand\u001b[39;00m FusedTransformerEncoderLayer \u001b[38;5;129;01mis\u001b[39;00m \u001b[38;5;28;01mNone\u001b[39;00m:\n\u001b[1;32m    293\u001b[0m     warnings\u001b[38;5;241m.\u001b[39mwarn(\n\u001b[1;32m    294\u001b[0m         \u001b[38;5;124m\"\u001b[39m\u001b[38;5;124mFusedTransformerEncoderLayer is not supported by the running Paddle. \u001b[39m\u001b[38;5;124m\"\u001b[39m\n\u001b[1;32m    295\u001b[0m         \u001b[38;5;124m\"\u001b[39m\u001b[38;5;124mThe flag fuse_transformer will be ignored. Try Paddle >= 2.3.0\u001b[39m\u001b[38;5;124m\"\u001b[39m\n\u001b[1;32m    296\u001b[0m     )\n",
      "File \u001b[0;32m/data1/ckw/micromamba/envs/paddle/lib/python3.11/site-packages/paddlenlp/transformers/bert/modeling.py:73\u001b[0m, in \u001b[0;36mBertEmbeddings.__init__\u001b[0;34m(self, config)\u001b[0m\n\u001b[1;32m     70\u001b[0m \u001b[38;5;28;01mdef\u001b[39;00m \u001b[38;5;21m__init__\u001b[39m(\u001b[38;5;28mself\u001b[39m, config: BertConfig):\n\u001b[1;32m     71\u001b[0m     \u001b[38;5;28msuper\u001b[39m(BertEmbeddings, \u001b[38;5;28mself\u001b[39m)\u001b[38;5;241m.\u001b[39m\u001b[38;5;21m__init__\u001b[39m()\n\u001b[0;32m---> 73\u001b[0m     \u001b[38;5;28mself\u001b[39m\u001b[38;5;241m.\u001b[39mword_embeddings \u001b[38;5;241m=\u001b[39m \u001b[43mnn\u001b[49m\u001b[38;5;241;43m.\u001b[39;49m\u001b[43mEmbedding\u001b[49m\u001b[43m(\u001b[49m\u001b[43mconfig\u001b[49m\u001b[38;5;241;43m.\u001b[39;49m\u001b[43mvocab_size\u001b[49m\u001b[43m,\u001b[49m\u001b[43m \u001b[49m\u001b[43mconfig\u001b[49m\u001b[38;5;241;43m.\u001b[39;49m\u001b[43mhidden_size\u001b[49m\u001b[43m)\u001b[49m\n\u001b[1;32m     74\u001b[0m     \u001b[38;5;28mself\u001b[39m\u001b[38;5;241m.\u001b[39mposition_embeddings \u001b[38;5;241m=\u001b[39m nn\u001b[38;5;241m.\u001b[39mEmbedding(config\u001b[38;5;241m.\u001b[39mmax_position_embeddings, config\u001b[38;5;241m.\u001b[39mhidden_size)\n\u001b[1;32m     75\u001b[0m     \u001b[38;5;28mself\u001b[39m\u001b[38;5;241m.\u001b[39mtoken_type_embeddings \u001b[38;5;241m=\u001b[39m nn\u001b[38;5;241m.\u001b[39mEmbedding(config\u001b[38;5;241m.\u001b[39mtype_vocab_size, config\u001b[38;5;241m.\u001b[39mhidden_size)\n",
      "File \u001b[0;32m/data1/ckw/micromamba/envs/paddle/lib/python3.11/site-packages/paddle/nn/layer/common.py:1503\u001b[0m, in \u001b[0;36mEmbedding.__init__\u001b[0;34m(self, num_embeddings, embedding_dim, padding_idx, sparse, weight_attr, name)\u001b[0m\n\u001b[1;32m   1501\u001b[0m \u001b[38;5;28mself\u001b[39m\u001b[38;5;241m.\u001b[39m_remote_prefetch \u001b[38;5;241m=\u001b[39m \u001b[38;5;28;01mFalse\u001b[39;00m\n\u001b[1;32m   1502\u001b[0m \u001b[38;5;28mself\u001b[39m\u001b[38;5;241m.\u001b[39m_name \u001b[38;5;241m=\u001b[39m name\n\u001b[0;32m-> 1503\u001b[0m \u001b[38;5;28mself\u001b[39m\u001b[38;5;241m.\u001b[39mweight \u001b[38;5;241m=\u001b[39m \u001b[38;5;28;43mself\u001b[39;49m\u001b[38;5;241;43m.\u001b[39;49m\u001b[43mcreate_parameter\u001b[49m\u001b[43m(\u001b[49m\n\u001b[1;32m   1504\u001b[0m \u001b[43m    \u001b[49m\u001b[43mattr\u001b[49m\u001b[38;5;241;43m=\u001b[39;49m\u001b[38;5;28;43mself\u001b[39;49m\u001b[38;5;241;43m.\u001b[39;49m\u001b[43m_weight_attr\u001b[49m\u001b[43m,\u001b[49m\n\u001b[1;32m   1505\u001b[0m \u001b[43m    \u001b[49m\u001b[43mshape\u001b[49m\u001b[38;5;241;43m=\u001b[39;49m\u001b[38;5;28;43mself\u001b[39;49m\u001b[38;5;241;43m.\u001b[39;49m\u001b[43m_size\u001b[49m\u001b[43m,\u001b[49m\n\u001b[1;32m   1506\u001b[0m \u001b[43m    \u001b[49m\u001b[43mdtype\u001b[49m\u001b[38;5;241;43m=\u001b[39;49m\u001b[38;5;28;43mself\u001b[39;49m\u001b[38;5;241;43m.\u001b[39;49m\u001b[43m_dtype\u001b[49m\u001b[43m,\u001b[49m\n\u001b[1;32m   1507\u001b[0m \u001b[43m    \u001b[49m\u001b[43mis_bias\u001b[49m\u001b[38;5;241;43m=\u001b[39;49m\u001b[38;5;28;43;01mFalse\u001b[39;49;00m\u001b[43m,\u001b[49m\n\u001b[1;32m   1508\u001b[0m \u001b[43m\u001b[49m\u001b[43m)\u001b[49m\n\u001b[1;32m   1510\u001b[0m \u001b[38;5;28;01mif\u001b[39;00m in_dynamic_mode() \u001b[38;5;129;01mand\u001b[39;00m padding_idx \u001b[38;5;241m!=\u001b[39m \u001b[38;5;241m-\u001b[39m\u001b[38;5;241m1\u001b[39m:\n\u001b[1;32m   1511\u001b[0m     \u001b[38;5;28;01mwith\u001b[39;00m paddle\u001b[38;5;241m.\u001b[39mno_grad():\n",
      "File \u001b[0;32m/data1/ckw/micromamba/envs/paddle/lib/python3.11/site-packages/paddle/nn/layer/layers.py:715\u001b[0m, in \u001b[0;36mLayer.create_parameter\u001b[0;34m(self, shape, attr, dtype, is_bias, default_initializer)\u001b[0m\n\u001b[1;32m    713\u001b[0m \u001b[38;5;28;01mif\u001b[39;00m \u001b[38;5;28misinstance\u001b[39m(temp_attr, \u001b[38;5;28mstr\u001b[39m) \u001b[38;5;129;01mand\u001b[39;00m temp_attr \u001b[38;5;241m==\u001b[39m \u001b[38;5;124m\"\u001b[39m\u001b[38;5;124m\"\u001b[39m:\n\u001b[1;32m    714\u001b[0m     temp_attr \u001b[38;5;241m=\u001b[39m \u001b[38;5;28;01mNone\u001b[39;00m\n\u001b[0;32m--> 715\u001b[0m \u001b[38;5;28;01mreturn\u001b[39;00m \u001b[38;5;28;43mself\u001b[39;49m\u001b[38;5;241;43m.\u001b[39;49m\u001b[43m_helper\u001b[49m\u001b[38;5;241;43m.\u001b[39;49m\u001b[43mcreate_parameter\u001b[49m\u001b[43m(\u001b[49m\n\u001b[1;32m    716\u001b[0m \u001b[43m    \u001b[49m\u001b[43mtemp_attr\u001b[49m\u001b[43m,\u001b[49m\u001b[43m \u001b[49m\u001b[43mshape\u001b[49m\u001b[43m,\u001b[49m\u001b[43m \u001b[49m\u001b[43mdtype\u001b[49m\u001b[43m,\u001b[49m\u001b[43m \u001b[49m\u001b[43mis_bias\u001b[49m\u001b[43m,\u001b[49m\u001b[43m \u001b[49m\u001b[43mdefault_initializer\u001b[49m\n\u001b[1;32m    717\u001b[0m \u001b[43m\u001b[49m\u001b[43m)\u001b[49m\n",
      "File \u001b[0;32m/data1/ckw/micromamba/envs/paddle/lib/python3.11/site-packages/paddle/fluid/layer_helper_base.py:424\u001b[0m, in \u001b[0;36mLayerHelperBase.create_parameter\u001b[0;34m(self, attr, shape, dtype, is_bias, default_initializer, stop_gradient, type)\u001b[0m\n\u001b[1;32m    417\u001b[0m     \u001b[38;5;28;01mif\u001b[39;00m is_used:\n\u001b[1;32m    418\u001b[0m         \u001b[38;5;28;01mraise\u001b[39;00m \u001b[38;5;167;01mValueError\u001b[39;00m(\n\u001b[1;32m    419\u001b[0m             \u001b[38;5;124m\"\u001b[39m\u001b[38;5;124mparameter name [\u001b[39m\u001b[38;5;132;01m{}\u001b[39;00m\u001b[38;5;124m] have be been used. \u001b[39m\u001b[38;5;124m\"\u001b[39m\n\u001b[1;32m    420\u001b[0m             \u001b[38;5;124m\"\u001b[39m\u001b[38;5;124mIn dygraph mode, the name of parameter can\u001b[39m\u001b[38;5;124m'\u001b[39m\u001b[38;5;124mt be same.\u001b[39m\u001b[38;5;124m\"\u001b[39m\n\u001b[1;32m    421\u001b[0m             \u001b[38;5;124m\"\u001b[39m\u001b[38;5;124mPlease check the parameter attr value passed to self.create_parameter or \u001b[39m\u001b[38;5;124m\"\u001b[39m\n\u001b[1;32m    422\u001b[0m             \u001b[38;5;124m\"\u001b[39m\u001b[38;5;124mconstructor of dygraph Layers\u001b[39m\u001b[38;5;124m\"\u001b[39m\u001b[38;5;241m.\u001b[39mformat(attr\u001b[38;5;241m.\u001b[39mname)\n\u001b[1;32m    423\u001b[0m         )\n\u001b[0;32m--> 424\u001b[0m     \u001b[38;5;28;01mreturn\u001b[39;00m \u001b[38;5;28;43mself\u001b[39;49m\u001b[38;5;241;43m.\u001b[39;49m\u001b[43mmain_program\u001b[49m\u001b[38;5;241;43m.\u001b[39;49m\u001b[43mglobal_block\u001b[49m\u001b[43m(\u001b[49m\u001b[43m)\u001b[49m\u001b[38;5;241;43m.\u001b[39;49m\u001b[43mcreate_parameter\u001b[49m\u001b[43m(\u001b[49m\n\u001b[1;32m    425\u001b[0m \u001b[43m        \u001b[49m\u001b[43mdtype\u001b[49m\u001b[38;5;241;43m=\u001b[39;49m\u001b[43mdtype\u001b[49m\u001b[43m,\u001b[49m\n\u001b[1;32m    426\u001b[0m \u001b[43m        \u001b[49m\u001b[43mshape\u001b[49m\u001b[38;5;241;43m=\u001b[39;49m\u001b[43mshape\u001b[49m\u001b[43m,\u001b[49m\n\u001b[1;32m    427\u001b[0m \u001b[43m        \u001b[49m\u001b[38;5;28;43mtype\u001b[39;49m\u001b[38;5;241;43m=\u001b[39;49m\u001b[38;5;28;43mtype\u001b[39;49m\u001b[43m,\u001b[49m\n\u001b[1;32m    428\u001b[0m \u001b[43m        \u001b[49m\u001b[43mstop_gradient\u001b[49m\u001b[38;5;241;43m=\u001b[39;49m\u001b[43mstop_gradient\u001b[49m\u001b[43m,\u001b[49m\n\u001b[1;32m    429\u001b[0m \u001b[43m        \u001b[49m\u001b[38;5;241;43m*\u001b[39;49m\u001b[38;5;241;43m*\u001b[39;49m\u001b[43mattr\u001b[49m\u001b[38;5;241;43m.\u001b[39;49m\u001b[43m_to_kwargs\u001b[49m\u001b[43m(\u001b[49m\u001b[43mwith_initializer\u001b[49m\u001b[38;5;241;43m=\u001b[39;49m\u001b[38;5;28;43;01mTrue\u001b[39;49;00m\u001b[43m)\u001b[49m\n\u001b[1;32m    430\u001b[0m \u001b[43m    \u001b[49m\u001b[43m)\u001b[49m\n\u001b[1;32m    431\u001b[0m \u001b[38;5;28;01melse\u001b[39;00m:\n\u001b[1;32m    432\u001b[0m     \u001b[38;5;28mself\u001b[39m\u001b[38;5;241m.\u001b[39mstartup_program\u001b[38;5;241m.\u001b[39mglobal_block()\u001b[38;5;241m.\u001b[39mcreate_parameter(\n\u001b[1;32m    433\u001b[0m         dtype\u001b[38;5;241m=\u001b[39mdtype,\n\u001b[1;32m    434\u001b[0m         shape\u001b[38;5;241m=\u001b[39mshape,\n\u001b[1;32m    435\u001b[0m         \u001b[38;5;28mtype\u001b[39m\u001b[38;5;241m=\u001b[39m\u001b[38;5;28mtype\u001b[39m,\n\u001b[1;32m    436\u001b[0m         \u001b[38;5;241m*\u001b[39m\u001b[38;5;241m*\u001b[39mattr\u001b[38;5;241m.\u001b[39m_to_kwargs(with_initializer\u001b[38;5;241m=\u001b[39m\u001b[38;5;28;01mTrue\u001b[39;00m)\n\u001b[1;32m    437\u001b[0m     )\n",
      "File \u001b[0;32m/data1/ckw/micromamba/envs/paddle/lib/python3.11/site-packages/paddle/fluid/framework.py:3935\u001b[0m, in \u001b[0;36mBlock.create_parameter\u001b[0;34m(self, *args, **kwargs)\u001b[0m\n\u001b[1;32m   3933\u001b[0m         \u001b[38;5;28;01mpass\u001b[39;00m\n\u001b[1;32m   3934\u001b[0m     \u001b[38;5;28;01melse\u001b[39;00m:\n\u001b[0;32m-> 3935\u001b[0m         \u001b[43minitializer\u001b[49m\u001b[43m(\u001b[49m\u001b[43mparam\u001b[49m\u001b[43m,\u001b[49m\u001b[43m \u001b[49m\u001b[38;5;28;43mself\u001b[39;49m\u001b[43m)\u001b[49m\n\u001b[1;32m   3936\u001b[0m param\u001b[38;5;241m.\u001b[39mstop_gradient \u001b[38;5;241m=\u001b[39m stop_gradient\n\u001b[1;32m   3937\u001b[0m \u001b[38;5;28;01mreturn\u001b[39;00m param\n",
      "File \u001b[0;32m/data1/ckw/micromamba/envs/paddle/lib/python3.11/site-packages/paddle/nn/initializer/initializer.py:40\u001b[0m, in \u001b[0;36mInitializer.__call__\u001b[0;34m(self, param, block)\u001b[0m\n\u001b[1;32m     38\u001b[0m \u001b[38;5;28;01mdef\u001b[39;00m \u001b[38;5;21m__call__\u001b[39m(\u001b[38;5;28mself\u001b[39m, param, block\u001b[38;5;241m=\u001b[39m\u001b[38;5;28;01mNone\u001b[39;00m):\n\u001b[1;32m     39\u001b[0m     \u001b[38;5;28;01mif\u001b[39;00m \u001b[38;5;129;01mnot\u001b[39;00m lazy_init_helper()\u001b[38;5;241m.\u001b[39mstate:\n\u001b[0;32m---> 40\u001b[0m         \u001b[38;5;28;01mreturn\u001b[39;00m \u001b[38;5;28;43mself\u001b[39;49m\u001b[38;5;241;43m.\u001b[39;49m\u001b[43mforward\u001b[49m\u001b[43m(\u001b[49m\u001b[43mparam\u001b[49m\u001b[43m,\u001b[49m\u001b[43m \u001b[49m\u001b[43mblock\u001b[49m\u001b[43m)\u001b[49m\n\u001b[1;32m     42\u001b[0m     \u001b[38;5;28;01mreturn\u001b[39;00m \u001b[38;5;28mself\u001b[39m\u001b[38;5;241m.\u001b[39m_lazy_init(param, block)\n",
      "File \u001b[0;32m/data1/ckw/micromamba/envs/paddle/lib/python3.11/site-packages/paddle/nn/initializer/xavier.py:123\u001b[0m, in \u001b[0;36mXavierInitializer.forward\u001b[0;34m(self, var, block)\u001b[0m\n\u001b[1;32m    121\u001b[0m \u001b[38;5;28;01mif\u001b[39;00m \u001b[38;5;28mself\u001b[39m\u001b[38;5;241m.\u001b[39m_uniform:\n\u001b[1;32m    122\u001b[0m     limit \u001b[38;5;241m=\u001b[39m math\u001b[38;5;241m.\u001b[39msqrt(\u001b[38;5;241m6.0\u001b[39m \u001b[38;5;241m/\u001b[39m \u001b[38;5;28mfloat\u001b[39m(fan_in \u001b[38;5;241m+\u001b[39m fan_out))\n\u001b[0;32m--> 123\u001b[0m     out_var \u001b[38;5;241m=\u001b[39m \u001b[43m_C_ops\u001b[49m\u001b[38;5;241;43m.\u001b[39;49m\u001b[43muniform\u001b[49m\u001b[43m(\u001b[49m\n\u001b[1;32m    124\u001b[0m \u001b[43m        \u001b[49m\u001b[43mout_var\u001b[49m\u001b[38;5;241;43m.\u001b[39;49m\u001b[43mshape\u001b[49m\u001b[43m,\u001b[49m\n\u001b[1;32m    125\u001b[0m \u001b[43m        \u001b[49m\u001b[43mout_dtype\u001b[49m\u001b[43m,\u001b[49m\n\u001b[1;32m    126\u001b[0m \u001b[43m        \u001b[49m\u001b[38;5;241;43m-\u001b[39;49m\u001b[43mlimit\u001b[49m\u001b[43m,\u001b[49m\n\u001b[1;32m    127\u001b[0m \u001b[43m        \u001b[49m\u001b[43mlimit\u001b[49m\u001b[43m,\u001b[49m\n\u001b[1;32m    128\u001b[0m \u001b[43m        \u001b[49m\u001b[38;5;28;43mself\u001b[39;49m\u001b[38;5;241;43m.\u001b[39;49m\u001b[43m_seed\u001b[49m\u001b[43m,\u001b[49m\n\u001b[1;32m    129\u001b[0m \u001b[43m        \u001b[49m\u001b[43m_current_expected_place\u001b[49m\u001b[43m(\u001b[49m\u001b[43m)\u001b[49m\u001b[43m,\u001b[49m\n\u001b[1;32m    130\u001b[0m \u001b[43m    \u001b[49m\u001b[43m)\u001b[49m\n\u001b[1;32m    131\u001b[0m \u001b[38;5;28;01melse\u001b[39;00m:\n\u001b[1;32m    132\u001b[0m     std \u001b[38;5;241m=\u001b[39m math\u001b[38;5;241m.\u001b[39msqrt(\u001b[38;5;241m2.0\u001b[39m \u001b[38;5;241m/\u001b[39m \u001b[38;5;28mfloat\u001b[39m(fan_in \u001b[38;5;241m+\u001b[39m fan_out))\n",
      "\u001b[0;31mRuntimeError\u001b[0m: (PreconditionNotMet) Cannot load cudnn shared library. Cannot invoke method cudnnGetVersion.\n  [Hint: cudnn_dso_handle should not be null.] (at ../paddle/phi/backends/dynload/cudnn.cc:64)\n"
     ]
    }
   ],
   "source": [
    "import functools\n",
    "from paddle.io import DataLoader, BatchSampler\n",
    "from paddlenlp.datasets import MapDataset\n",
    "from paddlenlp.data import DataCollatorWithPadding\n",
    "from paddlenlp.data import Dict, Stack, Pad\n",
    "from paddlenlp.transformers import AutoModelForSequenceClassification, AutoTokenizer\n",
    "\n",
    "MAX_LEN = 128 # 512\n",
    "BATCH_SIZE = 64 # 8\n",
    "model_name = 'bert-base-uncased' # 'bert-large-uncased'\n",
    "\n",
    "# 生成预训练模型\n",
    "num_classes = len(LABELS)\n",
    "model = AutoModelForSequenceClassification.from_pretrained(model_name, num_classes=num_classes)\n",
    "tokenizer = AutoTokenizer.from_pretrained(model_name)\n",
    "\n",
    "# 数据预处理函数，利用分词器将文本转化为整数序列\n",
    "def preprocess_function(examples, tokenizer, max_seq_length):\n",
    "    result = tokenizer(text=examples[\"text\"], max_seq_len=max_seq_length, truncation=True)\n",
    "    result[\"labels\"] = examples[\"labels\"]\n",
    "    return result\n",
    "\n",
    "# 生成data loader的几大步骤：\n",
    "# 1. 生成list或dict的数据\n",
    "train_data = [{\"text\": train_x[i], \"labels\": train_y[i]} for i in range(len(train_x))]\n",
    "# 2. 封装成MapDataset\n",
    "train_ds = MapDataset(train_data)\n",
    "# 3. 转换数据格式为输入形式\n",
    "trans_func = functools.partial(preprocess_function, tokenizer=tokenizer, max_seq_length=MAX_LEN)\n",
    "train_ds = train_ds.map(trans_func)\n",
    "# 4. 将每个batch中的各个字段进行对齐\n",
    "collate_fn = lambda samples, fn=Dict({\n",
    "    'input_ids': Pad(axis=0, pad_val=tokenizer.pad_token_id),\n",
    "    'token_type_ids': Pad(axis=0, pad_val=tokenizer.pad_token_type_id),\n",
    "    'labels': Stack(dtype=\"int64\")\n",
    "}): fn(samples)\n",
    "# 5. 封装成sampler\n",
    "train_batch_sampler = BatchSampler(train_ds, batch_size=BATCH_SIZE, shuffle=True)\n",
    "# 6. 封装成data loader\n",
    "train_data_loader = DataLoader(dataset=train_ds, batch_sampler=train_batch_sampler, collate_fn=collate_fn)\n"
   ]
  },
  {
   "cell_type": "markdown",
   "metadata": {},
   "source": [
    "接下来就是喜闻乐见的炼丹环节"
   ]
  },
  {
   "cell_type": "code",
   "execution_count": null,
   "metadata": {
    "scrolled": true,
    "tags": []
   },
   "outputs": [],
   "source": [
    "import os\n",
    "import time\n",
    "import paddle\n",
    "import paddle.nn.functional as F\n",
    "from paddle.metric import Accuracy\n",
    "\n",
    "EPOCHS = 3 # 11\n",
    "CKPT_DIR = './ckpt'\n",
    "epoch_base = 0\n",
    "\n",
    "# 注意：learning_rate=1e-4 可能不收敛\n",
    "# optimizer = paddle.optimizer.AdamW(learning_rate=1e-4, parameters=model.parameters())\n",
    "optimizer = paddle.optimizer.AdamW(learning_rate=1e-5, parameters=model.parameters())\n",
    "criterion = paddle.nn.CrossEntropyLoss()\n",
    "metric = Accuracy()\n",
    "\n",
    "epochs = EPOCHS # 训练轮次\n",
    "ckpt_dir = CKPT_DIR #训练过程中保存模型参数的文件夹\n",
    "\n",
    "global_step = 0 #迭代次数\n",
    "tic_train = time.time()\n",
    "\n",
    "for epoch in range(1+epoch_base, epochs+epoch_base+1):\n",
    "    for step, batch in enumerate(train_data_loader, start=1):\n",
    "        input_ids, token_type_ids, labels = batch\n",
    "\n",
    "        # 计算模型输出\n",
    "        logits = model(input_ids, token_type_ids)\n",
    "        loss = criterion(logits, labels)\n",
    "\n",
    "        correct = metric.compute(logits, labels)\n",
    "        metric.update(correct)\n",
    "        res = metric.accumulate()\n",
    "\n",
    "        # 每迭代10次，打印损失函数值、准确率、计算速度\n",
    "        global_step += 1\n",
    "        if global_step % 10 == 0:\n",
    "            print(\n",
    "                \"global step %d, epoch: %d, batch: %d, loss: %.5f, auc: %.5f, speed: %.2f step/s\"\n",
    "                % (global_step, epoch, step, loss, res,\n",
    "                    10 / (time.time() - tic_train)))\n",
    "            tic_train = time.time()\n",
    "        \n",
    "        # 反向梯度回传，更新参数\n",
    "        loss.backward()\n",
    "        optimizer.step()\n",
    "        optimizer.clear_grad()\n",
    "\n",
    "        # 每迭代400次，评估当前训练的模型、保存当前最佳模型参数和分词器的词表等\n",
    "        if global_step % 400 == 0:\n",
    "            save_dir = ckpt_dir\n",
    "            if not os.path.exists(save_dir):\n",
    "                os.makedirs(save_dir)\n",
    "            model.save_pretrained(save_dir)\n",
    "            tokenizer.save_pretrained(save_dir)\n",
    "\n",
    "    _save_dir = '{}/{}_epoch_{}'.format(ckpt_dir, 'bert', epoch)\n",
    "    model.save_pretrained(_save_dir)\n",
    "    tokenizer.save_pretrained(_save_dir)"
   ]
  },
  {
   "cell_type": "markdown",
   "metadata": {},
   "source": [
    "模型训练好之后就可以生成预测结果～"
   ]
  },
  {
   "cell_type": "code",
   "execution_count": null,
   "metadata": {
    "scrolled": true,
    "tags": []
   },
   "outputs": [],
   "source": [
    "# 首先处理测试数据\n",
    "test_x, _ = get_data(df_test, is_test=True)\n",
    "test_data = [{\"text\": test_x[i], \"labels\": 0} for i in range(len(test_x))]\n",
    "test_ds = MapDataset(test_data)\n",
    "test_ds = test_ds.map(trans_func)\n",
    "test_batch_sampler = BatchSampler(test_ds, batch_size=BATCH_SIZE, shuffle=False)\n",
    "test_data_loader = DataLoader(dataset=test_ds, batch_sampler=test_batch_sampler, collate_fn=collate_fn)\n",
    "\n",
    "for i in range(1, EPOCHS+1):\n",
    "    model.set_dict(paddle.load('{}/{}_epoch_{}/model_state.pdparams'.format(CKPT_DIR, 'bert', i)))\n",
    "\n",
    "    # 构建验证集evaluate函数\n",
    "    @paddle.no_grad()\n",
    "    def do_pred(model, data_loader, label_vocab):\n",
    "\n",
    "        model.eval()\n",
    "        results = []\n",
    "        for batch in data_loader:\n",
    "            input_ids, token_type_ids, labels = batch\n",
    "            logits = model(input_ids, token_type_ids)\n",
    "\n",
    "            # paddle.nn.CrossEntropyLoss是包含了softmax操作的\n",
    "            # 而模型的输出是线性的，所以需要先转成softmax\n",
    "            probs = F.softmax(logits).numpy()\n",
    "\n",
    "            results.extend([label_vocab[i] for i in np.argmax(probs, axis=1)])\n",
    "\n",
    "        return results\n",
    "\n",
    "    pred = do_pred(model, test_data_loader, LABELS_IDX)\n",
    "\n",
    "    df_sub['Topic(Label)'] = pred\n",
    "\n",
    "    df_sub.to_csv('./results/{}_epoch_{}.csv'.format('bert', i), index=False)"
   ]
  },
  {
   "cell_type": "code",
   "execution_count": null,
   "metadata": {
    "scrolled": true,
    "tags": []
   },
   "outputs": [],
   "source": [
    "df_result = pd.read_csv('./results/bert_epoch_1.csv')\n",
    "df_result"
   ]
  },
  {
   "cell_type": "markdown",
   "metadata": {},
   "source": [
    "确认一下生成的csv文件没啥问题就可以提交了～\n",
    "\n",
    "至此，一个相对完整的比赛流程就完成了！\n",
    "\n",
    "比赛本身比较简单，拿来入手paddle真是再合适不过了，比赛网页中的长期赛目前还可以提交结果，有兴趣的可以练练手！"
   ]
  },
  {
   "cell_type": "markdown",
   "metadata": {},
   "source": [
    "## 一些方法\n",
    "\n",
    "先说说比赛本身。\n",
    "\n",
    "当拿到一个比赛题目之后，首先要做的就是分分类，这里仅就nlp相关的问题来说：\n",
    "\n",
    "1. 是**分类**问题，还是**序列**问题，还是**生成**问题\n",
    "    * **分类**：比如情感分析(积极/消极/中性)，有的是二分类，有的是多分类(比如这道题)，其实可以都当作多分类来处理，这样不用纠结sigmoid或者softmax，代码基本就不需要动了～\n",
    "    * **序列**：比如命名实体(NER)，输入输出是个一对一的关系\n",
    "    * **生成**：其他很多问题如果上面两个模型解决不了，基本都可以用生成模型来做。\n",
    "2. 是否需要自定义模型\n",
    "    * **否**：如果是单个任务题目，大部分时候不要自定义模型，这个时候用paddle的AutoModelXXX就很方便，尝试多个model的预训练模型，结果可能会有多个点的差别\n",
    "    * **是**：如果一个题目既需要做分类又有序列输出的要求，或者题目比较特别，那么可能就需要定制模型了，比如正在进行的[文本智能校对大赛](https://aistudio.baidu.com/aistudio/competition/detail/404/0/submit-result)，输入中如果加入拼音的embedding更合理(参考baseline)，后面有需要的话再单独开一篇定制模型的文章吧～\n",
    "    \n",
    "上面先把问题定义好了，那接下来就是处理数据：\n",
    "\n",
    "1. **中文vs英文**\n",
    "    * 中文跟英文的数据所使用的预训练模型大部分是不一样的，后面具体讲讲怎么找怎么用这些预训练模型\n",
    "    * 预处理，比如英文的大小写统一，空白字符的合并，中文半角全角字符的转换。现在预训练模型的vocab size基本都足够，所以很多时候不怎么需要预处理直接炼，结果也差不了多少...\n",
    "2. **数据集**\n",
    "    * **外部数据集**： 模型的好坏很大一部分取决于数据集的好坏，有的比赛允许使用外部开源数据集，那么能拿到越多的相关数据集，理论上结果就会越好，这里简单列几个：\n",
    "        * [**天池数据集**](https://tianchi.aliyun.com/dataset)，比如[中文医疗信息处理评测基准CBLUE](https://tianchi.aliyun.com/dataset/dataDetail?dataId=95414)\n",
    "        * [**CLUE**](https://github.com/CLUEbenchmark/CLUE)，各类数据集比较全\n",
    "        * [**千言**](https://www.luge.ai)，还有各类相关比赛\n",
    "    * **数据增强**：nlp的数据增强也有相关工具，不过平时用的不多，这里就不推荐了，不过在具体处理任务的时候可以尝试随机应变，比如实体替换，随机mask掉几个字符等等\n",
    "\n",
    "再说回用paddle打比赛，paddlenlp内置了很多预训练模型，要找到这些模型至少有两个途径:\n",
    "\n",
    "1. [**官方文档**](https://paddlenlp.readthedocs.io/zh/latest/model_zoo/index.html#transformer): 这里面列出了paddlenlp中内置的预训练模型，以及中英文的支持情况\n",
    "2. [**源码**](https://gitee.com/paddlepaddle/PaddleNLP/tree/develop/paddlenlp/transformers)：这是gitee的地址，国内比较快。我个人来这里找模型的情况比较多，因为既可以查看各个模型的参数，又可以看到模型的代码实现情况，对于后续排查问题很有帮助。\n",
    "\n",
    "最后说说怎么用这些预训练模型，一般来说，用AutoModelForXXX基本就够用，模式类似于这样：\n",
    "\n",
    "```\n",
    "    from paddlenlp.transformers import  AutoModelForSequenceClassification, AutoTokenizer\n",
    "    MODEL = 'ernie-3.0-base-zh'\n",
    "    num_classes = 2\n",
    "    model = AutoModelForSequenceClassification.from_pretrained(MODEL, num_classes=num_classes)\n",
    "    tokenizer = AutoTokenizer.from_pretrained(MODEL)\n",
    "```\n",
    "\n",
    "这里有几个点注意一下：\n",
    "\n",
    "1. `AutoModelForSequenceClassification`用来解决分类问题，`AutoModelForTokenClassification`用来一对一的序列问题。\n",
    "2. `model`与`tokenizer`要成对出现，每个模型的vocab不一样，混用就出错了。\n",
    "3. `num_classes`设为2的二分类用softmax解决，与`num_classes`设为1的二分类用sigmoid解决理论上是一样的，但是用softmax适用面更广一些。\n",
    "\n",
    "如果需要定制模型，也可以用下面的方法引入预训练模型：\n",
    "\n",
    "```\n",
    "    from paddlenlp.transformers import ErnieForSequenceClassification, ErnieTokenizer\n",
    "    MODEL = 'ernie-3.0-base-zh'\n",
    "    num_classes = 2\n",
    "    model = ErnieForSequenceClassification.from_pretrained(MODEL, num_classes=num_classes)\n",
    "    tokenizer = ErnieTokenizer.from_pretrained(MODEL)\n",
    "```\n",
    "\n",
    "这种方法用来具体指定模型的原型与定制模型来说比较好。\n",
    "\n",
    "具体问题具体分析，关于**“一些方法”**就先说这么多吧～"
   ]
  },
  {
   "cell_type": "markdown",
   "metadata": {},
   "source": [
    "## 一些技巧\n",
    "\n",
    "既然是打比赛，提分的技巧还是要有的，这里就这个比赛简单说说：\n",
    "\n",
    "1. **单个模型**：如果使用单个模型，那么不同模型的预训练模型可能会导致较大的成绩区别，比如这个比赛:\n",
    "\n",
    "| gpt epoch 5 | bert epoch 5 | bert large epoch 5 |\n",
    "| ----------- | ------------ | ------------------ |\n",
    "| 0.92761 | 0.93528 | 0.94966 |\n",
    "\n",
    "另外，不同的epoch影响也比较大：\n",
    "\n",
    "| bert epoch 3 | bert epoch 5 | bert epoch 7 |\n",
    "| ----------- | ------------ | ------------------ |\n",
    "| 0.94295 | 0.93528 | 0.94919 |\n",
    "\n",
    "成绩与epoch没有必然的线性关系，所以多尝试总没错。\n",
    "\n",
    "2. **多个模型**：如果时间或者条件有限，那么多个模型ensemble/voting是比较快提分的途径：\n",
    "\n",
    "| ensemble 4个 | ensemble 7个 | ensemble 9个 |\n",
    "| ----------- | ------------ | ------------------ |\n",
    "| 0.95302 | 0.95542 | 0.95638 |\n",
    "\n",
    "3. **特征选取**：这个比赛比较特殊的是，给了多个column作为特征，那么进行特征选取会是比较合适的手段。但是这里又不像是机器学习问题有工具帮助特征选取，我这里最后选择title、citation、abstract作为特征，其方法也比较简单：**可以先用一个简单的模型比如bert-base，然后每个column单独作为输入去训练模型，这样来看看模型大体能做到什么精度**。当时尝试用doi做输入的时候，原本以为doi可以很好的区分文章类别，但是发现模型却迟迟不能提升精度，而最后提交的结果也发现不使用doi成绩反而更好，也就验证了这种反直觉的特征选取方法还是有点效果的。\n",
    "\n",
    "4. **[SEP]的使用**：上面也提到了，这里用[SEP]来连接不同column的内容，目的是希望模型能够区分不同的column特征，进一步，还可以尝试用token type ids来区分column，不过此次比赛中没来得及。\n",
    "\n",
    "另外，模型训练的时候，最好有valid这个对照组，我这里比较懒也就没做了。。。\n",
    "\n",
    "提分技巧千千万，但总归是**术**而非**道**，了解各个模型的区别，选择适合的模型或者定制模型才是提分的终极技巧～"
   ]
  },
  {
   "cell_type": "markdown",
   "metadata": {},
   "source": [
    "## 一些思考\n",
    "\n",
    "最后，简单聊聊一些自己的想法吧～\n",
    "\n",
    "paddle这个框架还是不错的，虽然有时候问题比较多，定位问题比较烦，文档比较少。。。[捂脸]\n",
    "\n",
    "但是作为国内做的比较好的deep learning平台，推荐尝试，也希望越做越好，而且架不住人家还免费，吼吼。。。\n",
    "\n",
    "最近考虑做一个paddle问题定位的notebook，也把自己遇到的一些问题分享一下～\n",
    "\n",
    "再说回deep learning本身，目前的框架用起来越来越简单，而一些底层的进展却越来越慢，如果不能解决why和how的问题，简单说就是模型的可解释性问题，很快所谓的人工智能专家也就成人工智能民工了～ 未来也许工业应用与模型设计会是完全不同的两拨人？！找准自己的定位从娃娃抓起 ：）\n",
    "\n",
    "行吧，就说这么多，关于自己，一介散修，各类比赛一二三四五等奖若干，算法赛应用赛不限，nlp的较多，欢迎交流～ ：）\n",
    "\n",
    "谢谢！"
   ]
  },
  {
   "cell_type": "code",
   "execution_count": null,
   "metadata": {
    "scrolled": true
   },
   "outputs": [],
   "source": []
  },
  {
   "cell_type": "code",
   "execution_count": null,
   "metadata": {
    "scrolled": true
   },
   "outputs": [],
   "source": []
  }
 ],
 "metadata": {
  "kernelspec": {
   "display_name": "paddle",
   "language": "python",
   "name": "paddle"
  },
  "language_info": {
   "codemirror_mode": {
    "name": "ipython",
    "version": 3
   },
   "file_extension": ".py",
   "mimetype": "text/x-python",
   "name": "python",
   "nbconvert_exporter": "python",
   "pygments_lexer": "ipython3",
   "version": "3.11.8"
  }
 },
 "nbformat": 4,
 "nbformat_minor": 4
}
